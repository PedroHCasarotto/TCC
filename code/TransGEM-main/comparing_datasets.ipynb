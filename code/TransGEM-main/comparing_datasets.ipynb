{
 "cells": [
  {
   "cell_type": "code",
   "execution_count": null,
   "metadata": {},
   "outputs": [],
   "source": [
    "import pandas as pd\n",
    "\n",
    "df_tran = pd.read_csv('data/subLINCS_train.csv')\n",
    "df_fame = pd.read_csv('data/FAME_dataset_train.csv')"
   ]
  },
  {
   "cell_type": "code",
   "execution_count": null,
   "metadata": {},
   "outputs": [],
   "source": [
    "print('TRANSGEM_train: 25364')\n",
    "print('FAME_train: 25658')\n",
    "\n",
    "print('TRANSGEM_test: 14')\n",
    "print('FAME_test: 3291')\n",
    "\n",
    "print('TRANSGEM_val: 2000')\n",
    "print('FAME_val: 2872')"
   ]
  },
  {
   "cell_type": "code",
   "execution_count": 12,
   "metadata": {},
   "outputs": [
    {
     "data": {
      "text/html": [
       "<div>\n",
       "<style scoped>\n",
       "    .dataframe tbody tr th:only-of-type {\n",
       "        vertical-align: middle;\n",
       "    }\n",
       "\n",
       "    .dataframe tbody tr th {\n",
       "        vertical-align: top;\n",
       "    }\n",
       "\n",
       "    .dataframe thead th {\n",
       "        text-align: right;\n",
       "    }\n",
       "</style>\n",
       "<table border=\"1\" class=\"dataframe\">\n",
       "  <thead>\n",
       "    <tr style=\"text-align: right;\">\n",
       "      <th></th>\n",
       "      <th>cell_line</th>\n",
       "      <th>dose</th>\n",
       "      <th>drug_id</th>\n",
       "      <th>smiles</th>\n",
       "      <th>selfies</th>\n",
       "      <th>gene_e</th>\n",
       "    </tr>\n",
       "  </thead>\n",
       "  <tbody>\n",
       "    <tr>\n",
       "      <th>0</th>\n",
       "      <td>MCF7</td>\n",
       "      <td>10 uM</td>\n",
       "      <td>BRD-K33226500</td>\n",
       "      <td>CC(C)(C)NC(=O)[C@@H]1CN(Cc2cccnc2)CCN1C[C@@H](...</td>\n",
       "      <td>['[C]', '[C]', '[Branch1_1]', '[C]', '[C]', '[...</td>\n",
       "      <td>-0.0//0.1//0.1//0.1//0.1//-0.0//0.0//0.1//-0.1...</td>\n",
       "    </tr>\n",
       "    <tr>\n",
       "      <th>1</th>\n",
       "      <td>MCF7</td>\n",
       "      <td>10 uM</td>\n",
       "      <td>BRD-K71035033</td>\n",
       "      <td>CN1CCN(Cc2ccc(cc2)C(=O)Nc2ccc(C)c(Nc3nc(cs3)-c...</td>\n",
       "      <td>['[C]', '[N]', '[C]', '[C]', '[N]', '[Branch2_...</td>\n",
       "      <td>0.5//-0.1//-0.1//0.1//0.2//0.0//0.3//-0.0//-0....</td>\n",
       "    </tr>\n",
       "    <tr>\n",
       "      <th>2</th>\n",
       "      <td>MCF7</td>\n",
       "      <td>10 uM</td>\n",
       "      <td>BRD-A01320529</td>\n",
       "      <td>OCc1cc(ccc1O)C(O)CNCCCCCCOCCCCc1ccccc1</td>\n",
       "      <td>['[O]', '[C]', '[C]', '[=C]', '[C]', '[Branch1...</td>\n",
       "      <td>0.3//-0.1//-0.5//-0.1//0.8//0.3//0.1//-0.0//-0...</td>\n",
       "    </tr>\n",
       "    <tr>\n",
       "      <th>3</th>\n",
       "      <td>MCF7</td>\n",
       "      <td>10 uM</td>\n",
       "      <td>BRD-K55424922</td>\n",
       "      <td>Clc1cccc(SC2CCNCC2)n1</td>\n",
       "      <td>['[Cl]', '[C]', '[=C]', '[C]', '[=C]', '[C]', ...</td>\n",
       "      <td>0.0//-0.4//0.2//0.2//0.1//-0.0//-0.1//-0.0//0....</td>\n",
       "    </tr>\n",
       "    <tr>\n",
       "      <th>4</th>\n",
       "      <td>MCF7</td>\n",
       "      <td>10 uM</td>\n",
       "      <td>BRD-K56403959</td>\n",
       "      <td>OCCOCCN1CCN(Cc2cccc(Oc3ccccc3)c2)CC1</td>\n",
       "      <td>['[O]', '[C]', '[C]', '[O]', '[C]', '[C]', '[N...</td>\n",
       "      <td>-0.1//-0.0//0.1//0.0//-0.3//0.1//0.1//0.4//-0....</td>\n",
       "    </tr>\n",
       "    <tr>\n",
       "      <th>...</th>\n",
       "      <td>...</td>\n",
       "      <td>...</td>\n",
       "      <td>...</td>\n",
       "      <td>...</td>\n",
       "      <td>...</td>\n",
       "      <td>...</td>\n",
       "    </tr>\n",
       "    <tr>\n",
       "      <th>1995</th>\n",
       "      <td>HEPG2</td>\n",
       "      <td>10 uM</td>\n",
       "      <td>BRD-K85133207</td>\n",
       "      <td>CC(=O)N[C@H]1C[C@H](C1)C(=O)Nc1cc(ccc1N)-c1ccc...</td>\n",
       "      <td>['[C]', '[C]', '[Branch1_2]', '[C]', '[=O]', '...</td>\n",
       "      <td>0.2//-0.2//0.5//-0.1//0.6//1.0//0.0//0.2//0.0/...</td>\n",
       "    </tr>\n",
       "    <tr>\n",
       "      <th>1996</th>\n",
       "      <td>HEPG2</td>\n",
       "      <td>10 uM</td>\n",
       "      <td>BRD-K83354763</td>\n",
       "      <td>Cc1ccc(NCCCc2ccccc2)c(N)c1</td>\n",
       "      <td>['[C]', '[C]', '[=C]', '[C]', '[=C]', '[Branch...</td>\n",
       "      <td>0.4//0.0//0.5//0.2//-0.0//0.2//0.1//0.0//0.0//...</td>\n",
       "    </tr>\n",
       "    <tr>\n",
       "      <th>1997</th>\n",
       "      <td>HEPG2</td>\n",
       "      <td>10 uM</td>\n",
       "      <td>BRD-K97399794</td>\n",
       "      <td>Oc1cc(O)c2c(c1)oc(-c1ccc(O)c(O)c1)c(O)c2=O</td>\n",
       "      <td>['[O]', '[C]', '[=C]', '[C]', '[Branch1_1]', '...</td>\n",
       "      <td>0.1//0.2//0.3//-0.7//-0.0//0.8//0.2//-0.1//-0....</td>\n",
       "    </tr>\n",
       "    <tr>\n",
       "      <th>1998</th>\n",
       "      <td>HEPG2</td>\n",
       "      <td>10 uM</td>\n",
       "      <td>BRD-A28105619</td>\n",
       "      <td>CC(C)(O)C=CC(=O)[C@](C)(O)C1[C@H](O)C[C@@]2(C)...</td>\n",
       "      <td>['[C]', '[C]', '[Branch1_1]', '[C]', '[C]', '[...</td>\n",
       "      <td>0.5//-0.3//0.1//-0.2//-0.2//-0.1//-1.2//-0.8//...</td>\n",
       "    </tr>\n",
       "    <tr>\n",
       "      <th>1999</th>\n",
       "      <td>HEPG2</td>\n",
       "      <td>10 uM</td>\n",
       "      <td>BRD-K73881242</td>\n",
       "      <td>CCOC(=O)c1c(CSc2ccccc2)n(C)c2cc(Br)c(O)c(CN(C)...</td>\n",
       "      <td>['[C]', '[C]', '[O]', '[C]', '[Branch1_2]', '[...</td>\n",
       "      <td>0.1//-0.1//-0.1//0.5//1.1//0.3//-0.1//-0.1//-0...</td>\n",
       "    </tr>\n",
       "  </tbody>\n",
       "</table>\n",
       "<p>2000 rows × 6 columns</p>\n",
       "</div>"
      ],
      "text/plain": [
       "     cell_line   dose        drug_id  \\\n",
       "0         MCF7  10 uM  BRD-K33226500   \n",
       "1         MCF7  10 uM  BRD-K71035033   \n",
       "2         MCF7  10 uM  BRD-A01320529   \n",
       "3         MCF7  10 uM  BRD-K55424922   \n",
       "4         MCF7  10 uM  BRD-K56403959   \n",
       "...        ...    ...            ...   \n",
       "1995     HEPG2  10 uM  BRD-K85133207   \n",
       "1996     HEPG2  10 uM  BRD-K83354763   \n",
       "1997     HEPG2  10 uM  BRD-K97399794   \n",
       "1998     HEPG2  10 uM  BRD-A28105619   \n",
       "1999     HEPG2  10 uM  BRD-K73881242   \n",
       "\n",
       "                                                 smiles  \\\n",
       "0     CC(C)(C)NC(=O)[C@@H]1CN(Cc2cccnc2)CCN1C[C@@H](...   \n",
       "1     CN1CCN(Cc2ccc(cc2)C(=O)Nc2ccc(C)c(Nc3nc(cs3)-c...   \n",
       "2                OCc1cc(ccc1O)C(O)CNCCCCCCOCCCCc1ccccc1   \n",
       "3                                 Clc1cccc(SC2CCNCC2)n1   \n",
       "4                  OCCOCCN1CCN(Cc2cccc(Oc3ccccc3)c2)CC1   \n",
       "...                                                 ...   \n",
       "1995  CC(=O)N[C@H]1C[C@H](C1)C(=O)Nc1cc(ccc1N)-c1ccc...   \n",
       "1996                         Cc1ccc(NCCCc2ccccc2)c(N)c1   \n",
       "1997         Oc1cc(O)c2c(c1)oc(-c1ccc(O)c(O)c1)c(O)c2=O   \n",
       "1998  CC(C)(O)C=CC(=O)[C@](C)(O)C1[C@H](O)C[C@@]2(C)...   \n",
       "1999  CCOC(=O)c1c(CSc2ccccc2)n(C)c2cc(Br)c(O)c(CN(C)...   \n",
       "\n",
       "                                                selfies  \\\n",
       "0     ['[C]', '[C]', '[Branch1_1]', '[C]', '[C]', '[...   \n",
       "1     ['[C]', '[N]', '[C]', '[C]', '[N]', '[Branch2_...   \n",
       "2     ['[O]', '[C]', '[C]', '[=C]', '[C]', '[Branch1...   \n",
       "3     ['[Cl]', '[C]', '[=C]', '[C]', '[=C]', '[C]', ...   \n",
       "4     ['[O]', '[C]', '[C]', '[O]', '[C]', '[C]', '[N...   \n",
       "...                                                 ...   \n",
       "1995  ['[C]', '[C]', '[Branch1_2]', '[C]', '[=O]', '...   \n",
       "1996  ['[C]', '[C]', '[=C]', '[C]', '[=C]', '[Branch...   \n",
       "1997  ['[O]', '[C]', '[=C]', '[C]', '[Branch1_1]', '...   \n",
       "1998  ['[C]', '[C]', '[Branch1_1]', '[C]', '[C]', '[...   \n",
       "1999  ['[C]', '[C]', '[O]', '[C]', '[Branch1_2]', '[...   \n",
       "\n",
       "                                                 gene_e  \n",
       "0     -0.0//0.1//0.1//0.1//0.1//-0.0//0.0//0.1//-0.1...  \n",
       "1     0.5//-0.1//-0.1//0.1//0.2//0.0//0.3//-0.0//-0....  \n",
       "2     0.3//-0.1//-0.5//-0.1//0.8//0.3//0.1//-0.0//-0...  \n",
       "3     0.0//-0.4//0.2//0.2//0.1//-0.0//-0.1//-0.0//0....  \n",
       "4     -0.1//-0.0//0.1//0.0//-0.3//0.1//0.1//0.4//-0....  \n",
       "...                                                 ...  \n",
       "1995  0.2//-0.2//0.5//-0.1//0.6//1.0//0.0//0.2//0.0/...  \n",
       "1996  0.4//0.0//0.5//0.2//-0.0//0.2//0.1//0.0//0.0//...  \n",
       "1997  0.1//0.2//0.3//-0.7//-0.0//0.8//0.2//-0.1//-0....  \n",
       "1998  0.5//-0.3//0.1//-0.2//-0.2//-0.1//-1.2//-0.8//...  \n",
       "1999  0.1//-0.1//-0.1//0.5//1.1//0.3//-0.1//-0.1//-0...  \n",
       "\n",
       "[2000 rows x 6 columns]"
      ]
     },
     "execution_count": 12,
     "metadata": {},
     "output_type": "execute_result"
    }
   ],
   "source": [
    "df_tran"
   ]
  },
  {
   "cell_type": "code",
   "execution_count": 38,
   "metadata": {},
   "outputs": [
    {
     "name": "stdout",
     "output_type": "stream",
     "text": [
      "25658\n",
      "25658\n",
      "16019\n",
      "0.6243276950658664\n"
     ]
    }
   ],
   "source": [
    "print(df_fame.gene_e.nunique())\n",
    "print(len(df_fame.gene_e))\n",
    "print(df_fame.smiles.nunique())\n",
    "\n",
    "print(df_fame.smiles.nunique()/df_fame.gene_e.nunique())"
   ]
  },
  {
   "cell_type": "code",
   "execution_count": 39,
   "metadata": {},
   "outputs": [
    {
     "name": "stdout",
     "output_type": "stream",
     "text": [
      "25362\n",
      "25364\n",
      "0.2679993691349263\n"
     ]
    }
   ],
   "source": [
    "df_tran.smiles               # 25364\n",
    "df_tran.smiles.nunique()     # 6797\n",
    "\n",
    "print(df_tran.gene_e.nunique())\n",
    "print(len(df_tran.gene_e))\n",
    "\n",
    "print(df_tran.smiles.nunique()/df_tran.gene_e.nunique())"
   ]
  },
  {
   "cell_type": "code",
   "execution_count": 113,
   "metadata": {},
   "outputs": [],
   "source": [
    "df_tran_test = pd.read_csv('data/subLINCS_test.csv')\n",
    "df_fame_test = pd.read_csv('data/FAME_dataset_test.csv')\n",
    "\n",
    "df_tran_val = pd.read_csv('data/subLINCS_val.csv')\n",
    "df_fame_val = pd.read_csv('data/FAME_dataset_val.csv')"
   ]
  },
  {
   "cell_type": "code",
   "execution_count": 117,
   "metadata": {},
   "outputs": [
    {
     "name": "stdout",
     "output_type": "stream",
     "text": [
      "======== df_tran with gene_e ========\n",
      "\n",
      "Smiles number total:  25364\n",
      "Smiles number unique:  6797\n",
      "Gene number total:  25364\n",
      "Gene number unique:  25362\n",
      "Proportion of simles per gene:  0.2679993691349263\n",
      "\n",
      "\n",
      "\n",
      "======== df_fame with gene_e ========\n",
      "\n",
      "Smiles number total:  25658\n",
      "Smiles number unique:  16019\n",
      "Gene number total:  25658\n",
      "Gene number unique:  25658\n",
      "Proportion of simles per gene:  0.6243276950658664\n",
      "\n",
      "\n",
      "\n",
      "======== df_fame with gene_e_simplified ========\n",
      "\n",
      "Smiles number total:  25658\n",
      "Smiles number unique:  16019\n",
      "Gene number total:  25658\n",
      "Gene number unique:  25658\n",
      "Proportion of simles per gene:  0.6243276950658664\n",
      "\n",
      "\n",
      "\n",
      "======== df_tran_test with gene_e ========\n",
      "\n",
      "Smiles number total:  14\n",
      "Smiles number unique:  13\n",
      "Gene number total:  14\n",
      "Gene number unique:  14\n",
      "Proportion of simles per gene:  0.9285714285714286\n",
      "\n",
      "\n",
      "\n",
      "======== df_fame_test with gene_e ========\n",
      "\n",
      "Smiles number total:  3291\n",
      "Smiles number unique:  1980\n",
      "Gene number total:  3291\n",
      "Gene number unique:  3291\n",
      "Proportion of simles per gene:  0.601640838650866\n",
      "\n",
      "\n",
      "\n",
      "======== df_fame_test with gene_e_simplified ========\n",
      "\n",
      "Smiles number total:  3291\n",
      "Smiles number unique:  1980\n",
      "Gene number total:  3291\n",
      "Gene number unique:  3291\n",
      "Proportion of simles per gene:  0.601640838650866\n",
      "\n",
      "\n",
      "\n",
      "======== df_tran_val with gene_e ========\n",
      "\n",
      "Smiles number total:  2000\n",
      "Smiles number unique:  1681\n",
      "Gene number total:  2000\n",
      "Gene number unique:  2000\n",
      "Proportion of simles per gene:  0.8405\n",
      "\n",
      "\n",
      "\n",
      "======== df_fame_val with gene_e ========\n",
      "\n",
      "Smiles number total:  2872\n",
      "Smiles number unique:  1782\n",
      "Gene number total:  2872\n",
      "Gene number unique:  2872\n",
      "Proportion of simles per gene:  0.6204735376044568\n",
      "\n",
      "\n",
      "\n",
      "======== df_fame_val with gene_e_simplified ========\n",
      "\n",
      "Smiles number total:  2872\n",
      "Smiles number unique:  1782\n",
      "Gene number total:  2872\n",
      "Gene number unique:  2872\n",
      "Proportion of simles per gene:  0.6204735376044568\n",
      "\n",
      "\n",
      "\n"
     ]
    }
   ],
   "source": [
    "def info(df, name, col='gene_e'):\n",
    "    print(f'======== {name} with {col} ========\\n')\n",
    "    print('Smiles number total: ', len(df.smiles))               # 25364\n",
    "    print('Smiles number unique: ', df.smiles.nunique())     # 6797\n",
    "\n",
    "    print('Gene number total: ', len(df[col]))\n",
    "    print('Gene number unique: ', df[col].nunique())\n",
    "\n",
    "    print('Proportion of simles per gene: ', df.smiles.nunique()/df[col].nunique())\n",
    "    print('\\n\\n')\n",
    "\n",
    "info(df_tran, 'df_tran')\n",
    "info(df_fame, 'df_fame')\n",
    "info(df_fame, 'df_fame', col='gene_e_simplified')\n",
    "\n",
    "info(df_tran_test, 'df_tran_test')\n",
    "info(df_fame_test, 'df_fame_test')\n",
    "info(df_fame_test, 'df_fame_test', col='gene_e_simplified')\n",
    "\n",
    "info(df_tran_val, 'df_tran_val')\n",
    "info(df_fame_val, 'df_fame_val')\n",
    "info(df_fame_val, 'df_fame_val', col='gene_e_simplified')"
   ]
  },
  {
   "cell_type": "code",
   "execution_count": 114,
   "metadata": {},
   "outputs": [],
   "source": [
    "def put_in_one_decimal(k):\n",
    "        return [[f'%.1f' % sample for sample in li] for li in k]\n",
    "\n",
    "def gene_simplification(genes):\n",
    "    gene_List = [[float(j) for j in i.split(\"//\")] for i in genes]\n",
    "\n",
    "    gene_List_changed = put_in_one_decimal(gene_List)\n",
    "\n",
    "    k = ['//'.join(sample) for sample in gene_List_changed]\n",
    "    k = pd.Series(k).str.replace('-0.0', '0.0')\n",
    "\n",
    "    return k"
   ]
  },
  {
   "cell_type": "code",
   "execution_count": 115,
   "metadata": {},
   "outputs": [
    {
     "name": "stderr",
     "output_type": "stream",
     "text": [
      "C:\\Users\\Acer\\AppData\\Local\\Temp\\ipykernel_16848\\642220309.py:10: FutureWarning: The default value of regex will change from True to False in a future version.\n",
      "  k = pd.Series(k).str.replace('-0.0', '0.0')\n",
      "C:\\Users\\Acer\\AppData\\Local\\Temp\\ipykernel_16848\\642220309.py:10: FutureWarning: The default value of regex will change from True to False in a future version.\n",
      "  k = pd.Series(k).str.replace('-0.0', '0.0')\n",
      "C:\\Users\\Acer\\AppData\\Local\\Temp\\ipykernel_16848\\642220309.py:10: FutureWarning: The default value of regex will change from True to False in a future version.\n",
      "  k = pd.Series(k).str.replace('-0.0', '0.0')\n"
     ]
    }
   ],
   "source": [
    "df_fame['gene_e_simplified'] = gene_simplification(df_fame['gene_e'])\n",
    "df_fame_test['gene_e_simplified'] = gene_simplification(df_fame_test['gene_e'])\n",
    "df_fame_val['gene_e_simplified'] = gene_simplification(df_fame_val['gene_e'])"
   ]
  },
  {
   "cell_type": "code",
   "execution_count": 108,
   "metadata": {},
   "outputs": [],
   "source": [
    "df_fame['gene_e_original'] = df_fame['gene_e']\n",
    "df_fame['gene_e'] = k"
   ]
  },
  {
   "cell_type": "code",
   "execution_count": 109,
   "metadata": {},
   "outputs": [
    {
     "data": {
      "text/html": [
       "<div>\n",
       "<style scoped>\n",
       "    .dataframe tbody tr th:only-of-type {\n",
       "        vertical-align: middle;\n",
       "    }\n",
       "\n",
       "    .dataframe tbody tr th {\n",
       "        vertical-align: top;\n",
       "    }\n",
       "\n",
       "    .dataframe thead th {\n",
       "        text-align: right;\n",
       "    }\n",
       "</style>\n",
       "<table border=\"1\" class=\"dataframe\">\n",
       "  <thead>\n",
       "    <tr style=\"text-align: right;\">\n",
       "      <th></th>\n",
       "      <th>smiles</th>\n",
       "      <th>selfies</th>\n",
       "      <th>gene_e</th>\n",
       "      <th>gene_e_original</th>\n",
       "    </tr>\n",
       "  </thead>\n",
       "  <tbody>\n",
       "    <tr>\n",
       "      <th>0</th>\n",
       "      <td>COc1ccccc1NC(=O)N1CCCCN2[C@H](C1)[C@H](c1ccc(-...</td>\n",
       "      <td>[C][O][C][=C][C][=C][C][=C][Ring1][=Branch1][N...</td>\n",
       "      <td>-0.1//0.0//0.1//-0.1//0.1//-0.1//0.2//-0.1//-0...</td>\n",
       "      <td>-0.081911//0.023442//0.118003//-0.118417//0.06...</td>\n",
       "    </tr>\n",
       "    <tr>\n",
       "      <th>1</th>\n",
       "      <td>CO[C@H]1CN(C)C(=O)c2ccc(NC(=O)C3CCCC3)cc2OC[C@...</td>\n",
       "      <td>[C][O][C@H1][C][N][Branch1][C][C][C][=Branch1]...</td>\n",
       "      <td>0.1//0.0//-0.1//0.1//-0.2//0.0//0.0//0.1//0.0/...</td>\n",
       "      <td>0.068768//-0.010101//-0.121707//0.142479//-0.1...</td>\n",
       "    </tr>\n",
       "    <tr>\n",
       "      <th>2</th>\n",
       "      <td>CCN(CC)C(=O)c1cccc(C)c1</td>\n",
       "      <td>[C][C][N][Branch1][Ring1][C][C][C][=Branch1][C...</td>\n",
       "      <td>0.1//0.0//-0.1//0.0//0.0//0.0//0.1//0.0//0.1//...</td>\n",
       "      <td>0.094386//0.013693//-0.124994//-0.000583//0.02...</td>\n",
       "    </tr>\n",
       "    <tr>\n",
       "      <th>3</th>\n",
       "      <td>COC(=O)N1CCN(C(=O)Cc2ccc(Cl)c(Cl)c2)C(CN2CCCC2)C1</td>\n",
       "      <td>[C][O][C][=Branch1][C][=O][N][C][C][N][Branch2...</td>\n",
       "      <td>0.1//0.0//0.0//0.0//0.2//0.0//0.2//-0.1//0.0//...</td>\n",
       "      <td>0.085143//0.031898//0.043786//-0.038682//0.188...</td>\n",
       "    </tr>\n",
       "    <tr>\n",
       "      <th>4</th>\n",
       "      <td>COc1cccc(S(=O)(=O)N(C)C[C@@H]2Oc3cc(C4=CCCC4)c...</td>\n",
       "      <td>[C][O][C][=C][C][=C][C][Branch2][Branch1][=Bra...</td>\n",
       "      <td>0.1//-0.2//0.1//0.2//-0.3//0.0//0.0//0.0//0.0/...</td>\n",
       "      <td>0.111219//-0.157678//0.085092//0.155815//-0.27...</td>\n",
       "    </tr>\n",
       "    <tr>\n",
       "      <th>...</th>\n",
       "      <td>...</td>\n",
       "      <td>...</td>\n",
       "      <td>...</td>\n",
       "      <td>...</td>\n",
       "    </tr>\n",
       "    <tr>\n",
       "      <th>25653</th>\n",
       "      <td>C[C@@H]1CCCCO[C@@H](CN(C)C(=O)Nc2ccccc2)[C@H](...</td>\n",
       "      <td>[C][C@@H1][C][C][C][C][O][C@@H1][Branch2][Ring...</td>\n",
       "      <td>-0.1//-0.1//0.0//-0.1//0.0//0.1//0.2//-0.1//-0...</td>\n",
       "      <td>-0.081926//-0.054207//0.049499//-0.067319//-0....</td>\n",
       "    </tr>\n",
       "    <tr>\n",
       "      <th>25654</th>\n",
       "      <td>O=C(CNc1cccc2ccccc12)NN=Cc1ccc([N+](=O)[O-])o1</td>\n",
       "      <td>[O][=C][Branch1][P][C][N][C][=C][C][=C][C][=C]...</td>\n",
       "      <td>-0.1//0.2//0.2//0.0//0.1//-0.1//0.1//-0.1//0.2...</td>\n",
       "      <td>-0.084058//0.171540//0.165466//-0.043218//0.11...</td>\n",
       "    </tr>\n",
       "    <tr>\n",
       "      <th>25655</th>\n",
       "      <td>COc1ccc2c3c(n(C)c2c1)[C@H](CO)NCC31CN(Cc2cc(-c...</td>\n",
       "      <td>[C][O][C][=C][C][=C][C][=C][Branch1][O][N][Bra...</td>\n",
       "      <td>0.0//-0.1//0.1//0.1//-0.3//-0.1//0.0//-0.1//0....</td>\n",
       "      <td>-0.008801//-0.091641//0.055367//0.077171//-0.2...</td>\n",
       "    </tr>\n",
       "    <tr>\n",
       "      <th>25656</th>\n",
       "      <td>COc1ccc2c3c([nH]c2c1)[C@H](CO)N(C(=O)C1CCOCC1)...</td>\n",
       "      <td>[C][O][C][=C][C][=C][C][=C][Branch1][Branch2][...</td>\n",
       "      <td>0.1//0.0//0.1//0.1//0.0//-0.1//0.0//0.0//-0.1/...</td>\n",
       "      <td>0.053546//-0.034953//0.096325//0.090061//-0.02...</td>\n",
       "    </tr>\n",
       "    <tr>\n",
       "      <th>25657</th>\n",
       "      <td>COc1ccc(C2Nc3ccccc3C(=O)N2Cc2ccco2)cc1COc1ccccc1C</td>\n",
       "      <td>[C][O][C][=C][C][=C][Branch2][Ring1][#Branch2]...</td>\n",
       "      <td>0.0//0.0//0.1//0.1//0.0//0.1//0.3//-0.1//0.0//...</td>\n",
       "      <td>0.041853//0.010516//0.050944//0.091727//-0.034...</td>\n",
       "    </tr>\n",
       "  </tbody>\n",
       "</table>\n",
       "<p>25658 rows × 4 columns</p>\n",
       "</div>"
      ],
      "text/plain": [
       "                                                  smiles  \\\n",
       "0      COc1ccccc1NC(=O)N1CCCCN2[C@H](C1)[C@H](c1ccc(-...   \n",
       "1      CO[C@H]1CN(C)C(=O)c2ccc(NC(=O)C3CCCC3)cc2OC[C@...   \n",
       "2                                CCN(CC)C(=O)c1cccc(C)c1   \n",
       "3      COC(=O)N1CCN(C(=O)Cc2ccc(Cl)c(Cl)c2)C(CN2CCCC2)C1   \n",
       "4      COc1cccc(S(=O)(=O)N(C)C[C@@H]2Oc3cc(C4=CCCC4)c...   \n",
       "...                                                  ...   \n",
       "25653  C[C@@H]1CCCCO[C@@H](CN(C)C(=O)Nc2ccccc2)[C@H](...   \n",
       "25654     O=C(CNc1cccc2ccccc12)NN=Cc1ccc([N+](=O)[O-])o1   \n",
       "25655  COc1ccc2c3c(n(C)c2c1)[C@H](CO)NCC31CN(Cc2cc(-c...   \n",
       "25656  COc1ccc2c3c([nH]c2c1)[C@H](CO)N(C(=O)C1CCOCC1)...   \n",
       "25657  COc1ccc(C2Nc3ccccc3C(=O)N2Cc2ccco2)cc1COc1ccccc1C   \n",
       "\n",
       "                                                 selfies  \\\n",
       "0      [C][O][C][=C][C][=C][C][=C][Ring1][=Branch1][N...   \n",
       "1      [C][O][C@H1][C][N][Branch1][C][C][C][=Branch1]...   \n",
       "2      [C][C][N][Branch1][Ring1][C][C][C][=Branch1][C...   \n",
       "3      [C][O][C][=Branch1][C][=O][N][C][C][N][Branch2...   \n",
       "4      [C][O][C][=C][C][=C][C][Branch2][Branch1][=Bra...   \n",
       "...                                                  ...   \n",
       "25653  [C][C@@H1][C][C][C][C][O][C@@H1][Branch2][Ring...   \n",
       "25654  [O][=C][Branch1][P][C][N][C][=C][C][=C][C][=C]...   \n",
       "25655  [C][O][C][=C][C][=C][C][=C][Branch1][O][N][Bra...   \n",
       "25656  [C][O][C][=C][C][=C][C][=C][Branch1][Branch2][...   \n",
       "25657  [C][O][C][=C][C][=C][Branch2][Ring1][#Branch2]...   \n",
       "\n",
       "                                                  gene_e  \\\n",
       "0      -0.1//0.0//0.1//-0.1//0.1//-0.1//0.2//-0.1//-0...   \n",
       "1      0.1//0.0//-0.1//0.1//-0.2//0.0//0.0//0.1//0.0/...   \n",
       "2      0.1//0.0//-0.1//0.0//0.0//0.0//0.1//0.0//0.1//...   \n",
       "3      0.1//0.0//0.0//0.0//0.2//0.0//0.2//-0.1//0.0//...   \n",
       "4      0.1//-0.2//0.1//0.2//-0.3//0.0//0.0//0.0//0.0/...   \n",
       "...                                                  ...   \n",
       "25653  -0.1//-0.1//0.0//-0.1//0.0//0.1//0.2//-0.1//-0...   \n",
       "25654  -0.1//0.2//0.2//0.0//0.1//-0.1//0.1//-0.1//0.2...   \n",
       "25655  0.0//-0.1//0.1//0.1//-0.3//-0.1//0.0//-0.1//0....   \n",
       "25656  0.1//0.0//0.1//0.1//0.0//-0.1//0.0//0.0//-0.1/...   \n",
       "25657  0.0//0.0//0.1//0.1//0.0//0.1//0.3//-0.1//0.0//...   \n",
       "\n",
       "                                         gene_e_original  \n",
       "0      -0.081911//0.023442//0.118003//-0.118417//0.06...  \n",
       "1      0.068768//-0.010101//-0.121707//0.142479//-0.1...  \n",
       "2      0.094386//0.013693//-0.124994//-0.000583//0.02...  \n",
       "3      0.085143//0.031898//0.043786//-0.038682//0.188...  \n",
       "4      0.111219//-0.157678//0.085092//0.155815//-0.27...  \n",
       "...                                                  ...  \n",
       "25653  -0.081926//-0.054207//0.049499//-0.067319//-0....  \n",
       "25654  -0.084058//0.171540//0.165466//-0.043218//0.11...  \n",
       "25655  -0.008801//-0.091641//0.055367//0.077171//-0.2...  \n",
       "25656  0.053546//-0.034953//0.096325//0.090061//-0.02...  \n",
       "25657  0.041853//0.010516//0.050944//0.091727//-0.034...  \n",
       "\n",
       "[25658 rows x 4 columns]"
      ]
     },
     "execution_count": 109,
     "metadata": {},
     "output_type": "execute_result"
    }
   ],
   "source": [
    "df_fame"
   ]
  },
  {
   "cell_type": "code",
   "execution_count": 96,
   "metadata": {},
   "outputs": [
    {
     "data": {
      "text/plain": [
       "0        0.1//-0.0//-0.1//0.1//-0.2//-0.0//-0.0//0.1//0...\n",
       "1        0.1//0.0//-0.1//-0.0//0.0//0.0//0.1//-0.0//0.1...\n",
       "2        0.1//0.0//0.0//-0.0//0.2//0.0//0.2//-0.1//-0.0...\n",
       "3        0.1//-0.2//0.1//0.2//-0.3//0.0//-0.0//0.0//-0....\n",
       "4        -0.1//0.2//0.2//0.1//-0.1//0.0//0.1//-0.1//0.2...\n",
       "                               ...                        \n",
       "25651    0.1//0.0//0.1//0.0//0.1//0.0//0.2//-0.1//0.1//...\n",
       "25652    -0.1//-0.1//0.0//-0.1//-0.0//0.1//0.2//-0.1//-...\n",
       "25653    -0.1//0.2//0.2//-0.0//0.1//-0.1//0.1//-0.1//0....\n",
       "25654    -0.0//-0.1//0.1//0.1//-0.3//-0.1//0.0//-0.1//0...\n",
       "25655    0.1//-0.0//0.1//0.1//-0.0//-0.1//0.0//0.0//-0....\n",
       "Length: 25656, dtype: object"
      ]
     },
     "execution_count": 96,
     "metadata": {},
     "output_type": "execute_result"
    }
   ],
   "source": [
    "pd.Series(k)"
   ]
  },
  {
   "cell_type": "code",
   "execution_count": 95,
   "metadata": {},
   "outputs": [
    {
     "data": {
      "text/plain": [
       "0        -0.081911//0.023442//0.118003//-0.118417//0.06...\n",
       "1        0.068768//-0.010101//-0.121707//0.142479//-0.1...\n",
       "2        0.094386//0.013693//-0.124994//-0.000583//0.02...\n",
       "3        0.085143//0.031898//0.043786//-0.038682//0.188...\n",
       "4        0.111219//-0.157678//0.085092//0.155815//-0.27...\n",
       "                               ...                        \n",
       "25653    -0.081926//-0.054207//0.049499//-0.067319//-0....\n",
       "25654    -0.084058//0.171540//0.165466//-0.043218//0.11...\n",
       "25655    -0.008801//-0.091641//0.055367//0.077171//-0.2...\n",
       "25656    0.053546//-0.034953//0.096325//0.090061//-0.02...\n",
       "25657    0.041853//0.010516//0.050944//0.091727//-0.034...\n",
       "Name: gene_e, Length: 25658, dtype: object"
      ]
     },
     "execution_count": 95,
     "metadata": {},
     "output_type": "execute_result"
    }
   ],
   "source": [
    "df_fame.gene_e"
   ]
  },
  {
   "cell_type": "code",
   "execution_count": 137,
   "metadata": {},
   "outputs": [],
   "source": [
    "ene_List = [[float(j) for j in i.split(\"//\")] for i in df_fame.gene_e]"
   ]
  },
  {
   "cell_type": "code",
   "execution_count": 298,
   "metadata": {},
   "outputs": [
    {
     "ename": "ValueError",
     "evalue": "invalid literal for int() with base 10: 'b'",
     "output_type": "error",
     "traceback": [
      "\u001b[1;31m---------------------------------------------------------------------------\u001b[0m",
      "\u001b[1;31mValueError\u001b[0m                                Traceback (most recent call last)",
      "Cell \u001b[1;32mIn[298], line 2\u001b[0m\n\u001b[0;32m      1\u001b[0m \u001b[38;5;28;01mimport\u001b[39;00m \u001b[38;5;21;01mTransGEM\u001b[39;00m\u001b[38;5;21;01m.\u001b[39;00m\u001b[38;5;21;01mgene_ex_encoder_upgraded\u001b[39;00m \u001b[38;5;28;01mas\u001b[39;00m \u001b[38;5;21;01me\u001b[39;00m\n\u001b[1;32m----> 2\u001b[0m \u001b[43mtenfold_binary\u001b[49m\u001b[43m(\u001b[49m\u001b[43mene_List\u001b[49m\u001b[43m[\u001b[49m\u001b[38;5;241;43m0\u001b[39;49m\u001b[43m]\u001b[49m\u001b[43m,\u001b[49m\u001b[43m \u001b[49m\u001b[43mdecimal_points\u001b[49m\u001b[38;5;241;43m=\u001b[39;49m\u001b[38;5;241;43m6\u001b[39;49m\u001b[43m)\u001b[49m\n",
      "Cell \u001b[1;32mIn[297], line 24\u001b[0m, in \u001b[0;36mtenfold_binary\u001b[1;34m(gene_e, decimal_points, max_int, decimals_to_int)\u001b[0m\n\u001b[0;32m     22\u001b[0m             index_begin \u001b[38;5;241m=\u001b[39m (\u001b[38;5;241m1\u001b[39m\u001b[38;5;241m+\u001b[39mint_lenth\u001b[38;5;241m+\u001b[39m\u001b[38;5;241m4\u001b[39m\u001b[38;5;241m*\u001b[39mdecimal) \u001b[38;5;241m-\u001b[39m \u001b[38;5;28mlen\u001b[39m(\u001b[38;5;28mbin\u001b[39m(value)[\u001b[38;5;241m2\u001b[39m:])\n\u001b[0;32m     23\u001b[0m             index_end \u001b[38;5;241m=\u001b[39m (\u001b[38;5;241m1\u001b[39m\u001b[38;5;241m+\u001b[39mint_lenth\u001b[38;5;241m+\u001b[39m\u001b[38;5;241m4\u001b[39m\u001b[38;5;241m*\u001b[39mdecimal)\n\u001b[1;32m---> 24\u001b[0m             vector[index_begin:index_end] \u001b[38;5;241m=\u001b[39m [\u001b[38;5;28mint\u001b[39m(j) \u001b[38;5;28;01mfor\u001b[39;00m j \u001b[38;5;129;01min\u001b[39;00m \u001b[38;5;28mbin\u001b[39m(\u001b[38;5;28mint\u001b[39m(value))[\u001b[38;5;241m2\u001b[39m:]]\n\u001b[0;32m     26\u001b[0m     out\u001b[38;5;241m.\u001b[39mappend(vector)\n\u001b[0;32m     27\u001b[0m \u001b[38;5;28;01mreturn\u001b[39;00m np\u001b[38;5;241m.\u001b[39marray(out)\n",
      "Cell \u001b[1;32mIn[297], line 24\u001b[0m, in \u001b[0;36m<listcomp>\u001b[1;34m(.0)\u001b[0m\n\u001b[0;32m     22\u001b[0m             index_begin \u001b[38;5;241m=\u001b[39m (\u001b[38;5;241m1\u001b[39m\u001b[38;5;241m+\u001b[39mint_lenth\u001b[38;5;241m+\u001b[39m\u001b[38;5;241m4\u001b[39m\u001b[38;5;241m*\u001b[39mdecimal) \u001b[38;5;241m-\u001b[39m \u001b[38;5;28mlen\u001b[39m(\u001b[38;5;28mbin\u001b[39m(value)[\u001b[38;5;241m2\u001b[39m:])\n\u001b[0;32m     23\u001b[0m             index_end \u001b[38;5;241m=\u001b[39m (\u001b[38;5;241m1\u001b[39m\u001b[38;5;241m+\u001b[39mint_lenth\u001b[38;5;241m+\u001b[39m\u001b[38;5;241m4\u001b[39m\u001b[38;5;241m*\u001b[39mdecimal)\n\u001b[1;32m---> 24\u001b[0m             vector[index_begin:index_end] \u001b[38;5;241m=\u001b[39m [\u001b[38;5;28;43mint\u001b[39;49m\u001b[43m(\u001b[49m\u001b[43mj\u001b[49m\u001b[43m)\u001b[49m \u001b[38;5;28;01mfor\u001b[39;00m j \u001b[38;5;129;01min\u001b[39;00m \u001b[38;5;28mbin\u001b[39m(\u001b[38;5;28mint\u001b[39m(value))[\u001b[38;5;241m2\u001b[39m:]]\n\u001b[0;32m     26\u001b[0m     out\u001b[38;5;241m.\u001b[39mappend(vector)\n\u001b[0;32m     27\u001b[0m \u001b[38;5;28;01mreturn\u001b[39;00m np\u001b[38;5;241m.\u001b[39marray(out)\n",
      "\u001b[1;31mValueError\u001b[0m: invalid literal for int() with base 10: 'b'"
     ]
    }
   ],
   "source": [
    "import TransGEM.gene_ex_encoder_upgraded as e\n",
    "tenfold_binary(ene_List[0], decimal_points=6)"
   ]
  },
  {
   "cell_type": "code",
   "execution_count": 303,
   "metadata": {},
   "outputs": [
    {
     "name": "stdout",
     "output_type": "stream",
     "text": [
      "-0.02875\n"
     ]
    },
    {
     "ename": "ValueError",
     "evalue": "invalid literal for int() with base 10: 'b'",
     "output_type": "error",
     "traceback": [
      "\u001b[1;31m---------------------------------------------------------------------------\u001b[0m",
      "\u001b[1;31mValueError\u001b[0m                                Traceback (most recent call last)",
      "Cell \u001b[1;32mIn[303], line 32\u001b[0m\n\u001b[0;32m     27\u001b[0m             out\u001b[38;5;241m.\u001b[39mappend(vector)\n\u001b[0;32m     28\u001b[0m         \u001b[38;5;28;01mreturn\u001b[39;00m np\u001b[38;5;241m.\u001b[39marray(out)\n\u001b[1;32m---> 32\u001b[0m \u001b[43mtenfold_binary\u001b[49m\u001b[43m(\u001b[49m\u001b[43m[\u001b[49m\u001b[38;5;241;43m-\u001b[39;49m\u001b[38;5;241;43m0.02875\u001b[39;49m\u001b[43m]\u001b[49m\u001b[43m,\u001b[49m\u001b[43m \u001b[49m\u001b[43mdecimal_points\u001b[49m\u001b[38;5;241;43m=\u001b[39;49m\u001b[38;5;241;43m6\u001b[39;49m\u001b[43m)\u001b[49m\n",
      "Cell \u001b[1;32mIn[303], line 25\u001b[0m, in \u001b[0;36mtenfold_binary\u001b[1;34m(gene_e, decimal_points, max_int, decimals_to_int)\u001b[0m\n\u001b[0;32m     23\u001b[0m             index_begin \u001b[38;5;241m=\u001b[39m (\u001b[38;5;241m1\u001b[39m\u001b[38;5;241m+\u001b[39mint_lenth\u001b[38;5;241m+\u001b[39m\u001b[38;5;241m4\u001b[39m\u001b[38;5;241m*\u001b[39mdecimal) \u001b[38;5;241m-\u001b[39m \u001b[38;5;28mlen\u001b[39m(\u001b[38;5;28mbin\u001b[39m(value)[\u001b[38;5;241m2\u001b[39m:])\n\u001b[0;32m     24\u001b[0m             index_end \u001b[38;5;241m=\u001b[39m (\u001b[38;5;241m1\u001b[39m\u001b[38;5;241m+\u001b[39mint_lenth\u001b[38;5;241m+\u001b[39m\u001b[38;5;241m4\u001b[39m\u001b[38;5;241m*\u001b[39mdecimal)\n\u001b[1;32m---> 25\u001b[0m             vector[index_begin:index_end] \u001b[38;5;241m=\u001b[39m [\u001b[38;5;28mint\u001b[39m(j) \u001b[38;5;28;01mfor\u001b[39;00m j \u001b[38;5;129;01min\u001b[39;00m \u001b[38;5;28mbin\u001b[39m(\u001b[38;5;28mint\u001b[39m(value))[\u001b[38;5;241m2\u001b[39m:]]\n\u001b[0;32m     27\u001b[0m     out\u001b[38;5;241m.\u001b[39mappend(vector)\n\u001b[0;32m     28\u001b[0m \u001b[38;5;28;01mreturn\u001b[39;00m np\u001b[38;5;241m.\u001b[39marray(out)\n",
      "Cell \u001b[1;32mIn[303], line 25\u001b[0m, in \u001b[0;36m<listcomp>\u001b[1;34m(.0)\u001b[0m\n\u001b[0;32m     23\u001b[0m             index_begin \u001b[38;5;241m=\u001b[39m (\u001b[38;5;241m1\u001b[39m\u001b[38;5;241m+\u001b[39mint_lenth\u001b[38;5;241m+\u001b[39m\u001b[38;5;241m4\u001b[39m\u001b[38;5;241m*\u001b[39mdecimal) \u001b[38;5;241m-\u001b[39m \u001b[38;5;28mlen\u001b[39m(\u001b[38;5;28mbin\u001b[39m(value)[\u001b[38;5;241m2\u001b[39m:])\n\u001b[0;32m     24\u001b[0m             index_end \u001b[38;5;241m=\u001b[39m (\u001b[38;5;241m1\u001b[39m\u001b[38;5;241m+\u001b[39mint_lenth\u001b[38;5;241m+\u001b[39m\u001b[38;5;241m4\u001b[39m\u001b[38;5;241m*\u001b[39mdecimal)\n\u001b[1;32m---> 25\u001b[0m             vector[index_begin:index_end] \u001b[38;5;241m=\u001b[39m [\u001b[38;5;28;43mint\u001b[39;49m\u001b[43m(\u001b[49m\u001b[43mj\u001b[49m\u001b[43m)\u001b[49m \u001b[38;5;28;01mfor\u001b[39;00m j \u001b[38;5;129;01min\u001b[39;00m \u001b[38;5;28mbin\u001b[39m(\u001b[38;5;28mint\u001b[39m(value))[\u001b[38;5;241m2\u001b[39m:]]\n\u001b[0;32m     27\u001b[0m     out\u001b[38;5;241m.\u001b[39mappend(vector)\n\u001b[0;32m     28\u001b[0m \u001b[38;5;28;01mreturn\u001b[39;00m np\u001b[38;5;241m.\u001b[39marray(out)\n",
      "\u001b[1;31mValueError\u001b[0m: invalid literal for int() with base 10: 'b'"
     ]
    }
   ],
   "source": [
    "def tenfold_binary(gene_e: list, decimal_points: int=1, max_int: int=15, decimals_to_int: int=1) -> np.array:\n",
    "        out=[]\n",
    "        decimal_points = decimal_points - decimals_to_int\n",
    "        for sample in gene_e:\n",
    "            print(sample)\n",
    "            sample = sample * 10**decimals_to_int\n",
    "            sample=float(f\"%.{decimal_points}f\" % sample)\n",
    "            int_lenth = len(bin(max_int*(10**decimals_to_int))[2:])\n",
    "            bit = 1+int_lenth+4*(decimal_points)\n",
    "            vector= [0] * bit\n",
    "            \n",
    "            if sample > 0:\n",
    "                vector[0] = 1\n",
    "            else:\n",
    "                sample = -sample\n",
    "            \n",
    "            vector[1+int_lenth-len(bin(int(sample))[2:]):int_lenth+1] = [int(j) for j in bin(int(sample))[2:]]\n",
    "\n",
    "            \n",
    "            for decimal in range(1, decimal_points+1):\n",
    "                if sample*decimal - int(sample*decimal) != 0:\n",
    "                    value = int(int(sample*10**decimal) - int(sample*10**(decimal-1))*10)\n",
    "                    index_begin = (1+int_lenth+4*decimal) - len(bin(value)[2:])\n",
    "                    index_end = (1+int_lenth+4*decimal)\n",
    "                    vector[index_begin:index_end] = [int(j) for j in bin(int(value))[2:]]\n",
    "\n",
    "            out.append(vector)\n",
    "        return np.array(out)\n",
    "\n",
    "\n",
    "\n",
    "tenfold_binary([-0.02875], decimal_points=6)"
   ]
  },
  {
   "cell_type": "code",
   "execution_count": 284,
   "metadata": {},
   "outputs": [
    {
     "ename": "ValueError",
     "evalue": "unsupported format character '-' (0x2d) at index 2",
     "output_type": "error",
     "traceback": [
      "\u001b[1;31m---------------------------------------------------------------------------\u001b[0m",
      "\u001b[1;31mValueError\u001b[0m                                Traceback (most recent call last)",
      "Cell \u001b[1;32mIn[284], line 3\u001b[0m\n\u001b[0;32m      1\u001b[0m v \u001b[38;5;241m=\u001b[39m \u001b[38;5;241m23442.0\u001b[39m\n\u001b[0;32m      2\u001b[0m decimal_points \u001b[38;5;241m=\u001b[39m \u001b[38;5;241m-\u001b[39m\u001b[38;5;241m1\u001b[39m\n\u001b[1;32m----> 3\u001b[0m sample\u001b[38;5;241m=\u001b[39m\u001b[38;5;28mfloat\u001b[39m(\u001b[38;5;124;43mf\u001b[39;49m\u001b[38;5;124;43m\"\u001b[39;49m\u001b[38;5;124;43m%.\u001b[39;49m\u001b[38;5;132;43;01m{\u001b[39;49;00m\u001b[43mdecimal_points\u001b[49m\u001b[38;5;132;43;01m}\u001b[39;49;00m\u001b[38;5;124;43mf\u001b[39;49m\u001b[38;5;124;43m\"\u001b[39;49m\u001b[43m \u001b[49m\u001b[38;5;241;43m%\u001b[39;49m\u001b[43m \u001b[49m\u001b[43mv\u001b[49m)\n\u001b[0;32m      4\u001b[0m sample\n",
      "\u001b[1;31mValueError\u001b[0m: unsupported format character '-' (0x2d) at index 2"
     ]
    }
   ],
   "source": [
    "v = 23442.0\n",
    "decimal_points = -1\n",
    "sample=float(f\"%.{decimal_points}f\" % v)\n",
    "sample"
   ]
  },
  {
   "cell_type": "code",
   "execution_count": null,
   "metadata": {},
   "outputs": [
    {
     "name": "stdout",
     "output_type": "stream",
     "text": [
      "150\n"
     ]
    },
    {
     "ename": "ValueError",
     "evalue": "unsupported format character '-' (0x2d) at index 2",
     "output_type": "error",
     "traceback": [
      "\u001b[1;31m---------------------------------------------------------------------------\u001b[0m",
      "\u001b[1;31mValueError\u001b[0m                                Traceback (most recent call last)",
      "Cell \u001b[1;32mIn[268], line 1\u001b[0m\n\u001b[1;32m----> 1\u001b[0m \u001b[43mtenfold_binary\u001b[49m\u001b[43m(\u001b[49m\u001b[43mene_List\u001b[49m\u001b[43m[\u001b[49m\u001b[38;5;241;43m0\u001b[39;49m\u001b[43m]\u001b[49m\u001b[43m)\u001b[49m\n",
      "Cell \u001b[1;32mIn[267], line 6\u001b[0m, in \u001b[0;36mtenfold_binary\u001b[1;34m(gene_e, decimal_points, max_int, decimals_to_int)\u001b[0m\n\u001b[0;32m      4\u001b[0m sample \u001b[38;5;241m=\u001b[39m sample \u001b[38;5;241m*\u001b[39m \u001b[38;5;241m10\u001b[39m\u001b[38;5;241m*\u001b[39m\u001b[38;5;241m*\u001b[39mdecimals_to_int\n\u001b[0;32m      5\u001b[0m decimal_points \u001b[38;5;241m=\u001b[39m decimal_points \u001b[38;5;241m-\u001b[39m decimals_to_int\n\u001b[1;32m----> 6\u001b[0m sample\u001b[38;5;241m=\u001b[39m\u001b[38;5;28mfloat\u001b[39m(\u001b[38;5;124;43mf\u001b[39;49m\u001b[38;5;124;43m\"\u001b[39;49m\u001b[38;5;124;43m%.\u001b[39;49m\u001b[38;5;132;43;01m{\u001b[39;49;00m\u001b[43mdecimal_points\u001b[49m\u001b[38;5;132;43;01m}\u001b[39;49;00m\u001b[38;5;124;43mf\u001b[39;49m\u001b[38;5;124;43m\"\u001b[39;49m\u001b[43m \u001b[49m\u001b[38;5;241;43m%\u001b[39;49m\u001b[43m \u001b[49m\u001b[43msample\u001b[49m)\n\u001b[0;32m      7\u001b[0m \u001b[38;5;28mprint\u001b[39m(max_int\u001b[38;5;241m*\u001b[39m(\u001b[38;5;241m10\u001b[39m\u001b[38;5;241m*\u001b[39m\u001b[38;5;241m*\u001b[39mdecimals_to_int))\n\u001b[0;32m      8\u001b[0m int_lenth \u001b[38;5;241m=\u001b[39m \u001b[38;5;28mlen\u001b[39m(\u001b[38;5;28mbin\u001b[39m(max_int\u001b[38;5;241m*\u001b[39m(\u001b[38;5;241m10\u001b[39m\u001b[38;5;241m*\u001b[39m\u001b[38;5;241m*\u001b[39mdecimals_to_int))[\u001b[38;5;241m2\u001b[39m:])\n",
      "\u001b[1;31mValueError\u001b[0m: unsupported format character '-' (0x2d) at index 2"
     ]
    }
   ],
   "source": []
  },
  {
   "cell_type": "code",
   "execution_count": 204,
   "metadata": {},
   "outputs": [
    {
     "name": "stdout",
     "output_type": "stream",
     "text": [
      "0.03634\n"
     ]
    },
    {
     "ename": "IndexError",
     "evalue": "list assignment index out of range",
     "output_type": "error",
     "traceback": [
      "\u001b[1;31m---------------------------------------------------------------------------\u001b[0m",
      "\u001b[1;31mIndexError\u001b[0m                                Traceback (most recent call last)",
      "Cell \u001b[1;32mIn[204], line 1\u001b[0m\n\u001b[1;32m----> 1\u001b[0m \u001b[43me\u001b[49m\u001b[38;5;241;43m.\u001b[39;49m\u001b[43mone_hot\u001b[49m\u001b[43m(\u001b[49m\u001b[43m[\u001b[49m\u001b[38;5;241;43m0.03634\u001b[39;49m\u001b[43m]\u001b[49m\u001b[43m,\u001b[49m\u001b[43m \u001b[49m\u001b[43mdecimal_points\u001b[49m\u001b[38;5;241;43m=\u001b[39;49m\u001b[38;5;241;43m6\u001b[39;49m\u001b[43m)\u001b[49m\n",
      "File \u001b[1;32mc:\\Users\\Acer\\Documents\\Profissional\\Faculdade\\TCC\\code\\TransGEM-main\\TransGEM\\gene_ex_encoder_upgraded.py:30\u001b[0m, in \u001b[0;36mone_hot\u001b[1;34m(gene_e, decimal_points, max_int_size, numbers_size)\u001b[0m\n\u001b[0;32m     28\u001b[0m                value \u001b[38;5;241m=\u001b[39m \u001b[38;5;28mint\u001b[39m(\u001b[38;5;28mint\u001b[39m(sample\u001b[38;5;241m*\u001b[39m\u001b[38;5;241m10\u001b[39m\u001b[38;5;241m*\u001b[39m\u001b[38;5;241m*\u001b[39mdecimal) \u001b[38;5;241m-\u001b[39m \u001b[38;5;28mint\u001b[39m(sample\u001b[38;5;241m*\u001b[39m\u001b[38;5;241m10\u001b[39m\u001b[38;5;241m*\u001b[39m\u001b[38;5;241m*\u001b[39m(decimal\u001b[38;5;241m-\u001b[39m\u001b[38;5;241m1\u001b[39m))\u001b[38;5;241m*\u001b[39m\u001b[38;5;241m10\u001b[39m)\n\u001b[0;32m     29\u001b[0m                index \u001b[38;5;241m=\u001b[39m \u001b[38;5;241m1\u001b[39m\u001b[38;5;241m+\u001b[39mmax_int_size\u001b[38;5;241m+\u001b[39mnumbers_size\u001b[38;5;241m*\u001b[39m(decimal\u001b[38;5;241m-\u001b[39m\u001b[38;5;241m1\u001b[39m)\u001b[38;5;241m+\u001b[39mvalue\n\u001b[1;32m---> 30\u001b[0m                \u001b[43mvector\u001b[49m\u001b[43m[\u001b[49m\u001b[43mindex\u001b[49m\u001b[43m]\u001b[49m \u001b[38;5;241m=\u001b[39m \u001b[38;5;241m1\u001b[39m\n\u001b[0;32m     32\u001b[0m      out\u001b[38;5;241m.\u001b[39mappend(vector)\n\u001b[0;32m     34\u001b[0m \u001b[38;5;28;01mreturn\u001b[39;00m np\u001b[38;5;241m.\u001b[39marray(out)\n",
      "\u001b[1;31mIndexError\u001b[0m: list assignment index out of range"
     ]
    }
   ],
   "source": [
    "e.one_hot([0.03634], decimal_points=6)"
   ]
  },
  {
   "cell_type": "code",
   "execution_count": 261,
   "metadata": {},
   "outputs": [
    {
     "name": "stdout",
     "output_type": "stream",
     "text": [
      "[0 0 0 0 0 0 0 0 0]\n",
      "[0 0 1 0 0 0 0 0 0]\n",
      "[0 0 0 0 0 1 0 0 0]\n",
      "[0 0 1 0 0 0 0 0 0]\n",
      "[0 0 0 1 0 0 0 0 0]\n",
      "[0 0 0 0 0 0 0 0 0]\n",
      "0.03634\n"
     ]
    }
   ],
   "source": [
    "import numpy as np\n",
    "\n",
    "def one_hot(gene_e: list, decimal_points: int=1, max_int_size: int=15, numbers_size: int=9) -> np.array:\n",
    "        out=[]\n",
    "        for sample in gene_e:\n",
    "             bit = (1+15+numbers_size*decimal_points+1)\n",
    "             sample = float(f\"%.{decimal_points}f\" % sample)\n",
    "             vector = [0]*bit\n",
    "\n",
    "             if sample > 0:\n",
    "                 vector[0] = 1\n",
    "             else:\n",
    "                  sample = -sample\n",
    "\n",
    "             vector[abs(int(sample)-max_int_size)+1] = 1\n",
    "\n",
    "             for decimal in range(1, decimal_points+1):\n",
    "                    if sample*decimal - int(sample*decimal) != 0:\n",
    "                       if (sample*10**decimal - int(sample*10**decimal) >= 0.99):\n",
    "                          value = int(round(sample*10**decimal) - round(sample*10**(decimal-1))*10)\n",
    "                       else:\n",
    "                          value = int(int(sample*10**decimal) - int(sample*10**(decimal-1))*10)\n",
    "                       if value != 10:\n",
    "                        index = 1+max_int_size+numbers_size*(decimal-1)+value\n",
    "                        vector[index] = 1\n",
    "\n",
    "             out.append(vector)\n",
    "\n",
    "        return np.array(out)\n",
    "\n",
    "n = 0.03634\n",
    "# n = 0.0003\n",
    "# n = 0.00091\n",
    "r = one_hot([n], decimal_points=6)\n",
    "# print('----------------------------')\n",
    "# one_hot([0.036333], decimal_points=6)\n",
    "# print('----------------------------')\n",
    "# one_hot([0.036343], decimal_points=6)\n",
    "print(r[0][17:17+9])\n",
    "print(r[0][17+9:17+9*2])\n",
    "print(r[0][17+9*2:17+9*3])\n",
    "print(r[0][17+9*3:17+9*4])\n",
    "print(r[0][17+9*4:17+9*5])\n",
    "print(r[0][17+9*5:17+9*6])\n",
    "# print(r[0][17+9*6:17+9*7])\n",
    "\n",
    "print(n)"
   ]
  },
  {
   "cell_type": "code",
   "execution_count": null,
   "metadata": {},
   "outputs": [],
   "source": []
  },
  {
   "cell_type": "code",
   "execution_count": 222,
   "metadata": {},
   "outputs": [
    {
     "data": {
      "text/plain": [
       "array([[1, 0, 0, 0, 0, 0, 0, 0, 0, 0, 0, 0, 0, 0, 0, 0, 1, 0, 0, 0, 0, 0,\n",
       "        0, 0, 0, 0, 0, 0, 1, 0, 0, 0, 0, 0, 0, 0, 0, 0, 0, 0, 1, 0, 0, 0,\n",
       "        0, 0, 1, 0, 0, 0, 0, 0, 0, 0, 0, 1, 0, 0, 0, 0, 0, 1, 0, 0, 0, 0,\n",
       "        0, 0, 0, 0, 0]])"
      ]
     },
     "execution_count": 222,
     "metadata": {},
     "output_type": "execute_result"
    }
   ],
   "source": [
    "r"
   ]
  },
  {
   "cell_type": "code",
   "execution_count": null,
   "metadata": {},
   "outputs": [
    {
     "data": {
      "text/plain": [
       "array([0, 1, 0, 0, 0, 0, 0, 0, 0, 0, 0, 0, 0, 0, 0, 0, 0, 0, 0])"
      ]
     },
     "execution_count": 181,
     "metadata": {},
     "output_type": "execute_result"
    }
   ],
   "source": []
  }
 ],
 "metadata": {
  "kernelspec": {
   "display_name": "TransGEM_3",
   "language": "python",
   "name": "python3"
  },
  "language_info": {
   "codemirror_mode": {
    "name": "ipython",
    "version": 3
   },
   "file_extension": ".py",
   "mimetype": "text/x-python",
   "name": "python",
   "nbconvert_exporter": "python",
   "pygments_lexer": "ipython3",
   "version": "3.8.20"
  }
 },
 "nbformat": 4,
 "nbformat_minor": 2
}
