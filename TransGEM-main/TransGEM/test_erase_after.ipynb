{
 "cells": [
  {
   "cell_type": "code",
   "execution_count": 1,
   "metadata": {},
   "outputs": [
    {
     "data": {
      "text/plain": [
       "array([[10.342]])"
      ]
     },
     "execution_count": 1,
     "metadata": {},
     "output_type": "execute_result"
    }
   ],
   "source": [
    "import gene_ex_encoder_upgraded as ge\n",
    "\n",
    "number = [10.34200]\n",
    "ge.value(number, 6)"
   ]
  },
  {
   "cell_type": "code",
   "execution_count": 2,
   "metadata": {},
   "outputs": [
    {
     "data": {
      "text/plain": [
       "array([[1, 1, 0, 0, 0, 1, 0, 0, 0, 0, 0, 0, 0, 0, 0, 1, 0, 0, 0, 0, 0, 0,\n",
       "        1, 0, 0, 0, 0, 0, 0, 0]])"
      ]
     },
     "execution_count": 2,
     "metadata": {},
     "output_type": "execute_result"
    }
   ],
   "source": [
    "number = [1.34200]\n",
    "ge.one_hot(number, max_int=1, decimal_points=3)"
   ]
  },
  {
   "cell_type": "code",
   "execution_count": 3,
   "metadata": {},
   "outputs": [
    {
     "data": {
      "text/plain": [
       "array([[1, 1, 0, 0, 0, 1, 0, 0, 0, 0, 0, 1, 0, 0, 0, 0, 0, 0, 0, 0, 1, 0,\n",
       "        0, 0, 0, 0, 0, 0, 0, 1, 0, 0, 0, 0, 0, 0, 0, 0, 1, 0, 0, 0, 0, 0,\n",
       "        0, 0, 0, 1, 0, 0, 0, 0, 0, 0, 0, 0, 0]])"
      ]
     },
     "execution_count": 3,
     "metadata": {},
     "output_type": "execute_result"
    }
   ],
   "source": [
    "number = [1.3]\n",
    "ge.one_hot(number, max_int=1, decimal_points=6)"
   ]
  },
  {
   "cell_type": "code",
   "execution_count": 31,
   "metadata": {},
   "outputs": [
    {
     "data": {
      "text/plain": [
       "array([[1, 1, 1, 0, 0, 1, 0, 0, 1, 0, 1, 0, 0, 0, 0, 1, 0, 0, 0, 0, 0, 1,\n",
       "        0, 0, 1]])"
      ]
     },
     "execution_count": 31,
     "metadata": {},
     "output_type": "execute_result"
    }
   ],
   "source": [
    "number = [12.94209]\n",
    "ge.binary(number, max_int=10, decimal_points=5)"
   ]
  },
  {
   "cell_type": "code",
   "execution_count": 100,
   "metadata": {},
   "outputs": [
    {
     "name": "stdout",
     "output_type": "stream",
     "text": [
      "[0 1 0 1 1 1 1 1 1 0 1 1 0 1 0 0 0 0 1 1]\n",
      "392003\n"
     ]
    }
   ],
   "source": [
    "def tenfold_binary(gene_e: list, decimal_points: int=1, max_int: int=10, decimals_to_int: int=None) -> np.array:\n",
    "        if decimals_to_int == None: decimals_to_int = decimal_points\n",
    "        decimal_points = decimal_points - decimals_to_int\n",
    "        out=[]\n",
    "        for sample in gene_e:\n",
    "            sample = sample * 10**decimals_to_int\n",
    "            sample=float(f\"%.{decimal_points}f\" % sample)\n",
    "            int_lenth = len(bin(max_int*(10**decimals_to_int))[2:]) if max_int != 0 else len(bin(10**decimals_to_int)[2:])\n",
    "            bit = 1+int_lenth+4*(decimal_points)\n",
    "            vector= [0] * bit\n",
    "            \n",
    "            if sample > 0:\n",
    "                vector[0] = 1\n",
    "            else:\n",
    "                sample = -sample\n",
    "            \n",
    "            vector[1+int_lenth-len(bin(int(sample))[2:]):int_lenth+1] = [int(j) for j in bin(int(sample))[2:]]\n",
    "\n",
    "            \n",
    "            for decimal in range(1, decimal_points+1):\n",
    "                if sample*decimal - int(sample*decimal) != 0:\n",
    "                    value = int(int(sample*10**decimal) - int(sample*10**(decimal-1))*10)\n",
    "                    index_begin = (1+int_lenth+4*decimal) - len(bin(value)[2:])\n",
    "                    index_end = (1+int_lenth+4*decimal)\n",
    "                    vector[index_begin:index_end] = [int(j) for j in bin(int(value))[2:]]\n",
    "\n",
    "            out.append(vector)\n",
    "        return np.array(out)\n",
    "\n",
    "# number = [12.94209]\n",
    "# number = [1.33]\n",
    "number = [0.392003]\n",
    "r= tenfold_binary(number, max_int=0, decimal_points=6)[0][1:]\n",
    "r\n",
    "binary_string, binary_value = binary(r)\n",
    "\n",
    "print(r)\n",
    "print(binary_value)"
   ]
  },
  {
   "cell_type": "code",
   "execution_count": 78,
   "metadata": {},
   "outputs": [
    {
     "name": "stdout",
     "output_type": "stream",
     "text": [
      "[0 0 0 0 0 1 1 1 1 0]\n",
      "30\n"
     ]
    }
   ],
   "source": [
    "# number = [12.94209]\n",
    "# number = [1.33]\n",
    "number = [0.3]\n",
    "r= ge.tenfold_binary(number, max_int=10, decimal_points=2)[0][1:]\n",
    "r\n",
    "binary_string, binary_value = binary(r)\n",
    "\n",
    "print(r)\n",
    "print(binary_value)"
   ]
  },
  {
   "cell_type": "code",
   "execution_count": 55,
   "metadata": {},
   "outputs": [
    {
     "name": "stdout",
     "output_type": "stream",
     "text": [
      "Binary String: 00010100111111\n",
      "Integer Value: 1343\n"
     ]
    }
   ],
   "source": [
    "import numpy as np\n",
    "\n",
    "def binary(arr):\n",
    "    # Flatten the 2D array to 1D\n",
    "    flat_arr = arr.flatten()\n",
    "    # Join the elements as a binary string\n",
    "    binary_str = ''.join(str(i) for i in flat_arr)\n",
    "    # Convert the binary string into an integer\n",
    "    result = int(binary_str, 2)\n",
    "    return binary_str, result\n",
    "\n",
    "# Example usage\n",
    "# array = np.array([[1, 0, 0, 0, 1, 0, 1, 0, 0, 1, 1, 1, 1, 1, 1]])\n",
    "binary_string, binary_value = binary(r)\n",
    "print(\"Binary String:\", binary_string)\n",
    "print(\"Integer Value:\", binary_value)\n"
   ]
  },
  {
   "cell_type": "code",
   "execution_count": 34,
   "metadata": {},
   "outputs": [
    {
     "data": {
      "text/plain": [
       "11"
      ]
     },
     "execution_count": 34,
     "metadata": {},
     "output_type": "execute_result"
    }
   ],
   "source": [
    "int(1.342*1000).bit_length()"
   ]
  },
  {
   "cell_type": "code",
   "execution_count": 24,
   "metadata": {},
   "outputs": [
    {
     "data": {
      "text/plain": [
       "array([[1, 0, 0, 0, 0, 0, 0, 0, 0, 0, 1, 0, 0, 0, 0, 0, 0, 0, 1, 0, 0, 0,\n",
       "        0, 0, 0]])"
      ]
     },
     "execution_count": 24,
     "metadata": {},
     "output_type": "execute_result"
    }
   ],
   "source": [
    "def one_hot_original(gene_e,bit=25, t=10):\n",
    "        out=[]\n",
    "        for i in gene_e:\n",
    "            i=float(\"%.1f\" % i)\n",
    "            a=[0]*bit\n",
    "            if i>0:\n",
    "                a[0]=1\n",
    "                a[int(i)] = 1\n",
    "                if i-int(i)!=0:\n",
    "                    a[int(i*t-int(i)*t)+15] = 1\n",
    "            if i<0:\n",
    "                \n",
    "                a[abs(int(i))] = 1\n",
    "                if i-int(i)!=0:\n",
    "                    a[abs(int(i*t-int(i)*t))+15] = 1\n",
    "            out.append(a)\n",
    "        return np.array(out)\n",
    "\n",
    "number = [10.3]\n",
    "one_hot_original(number)"
   ]
  },
  {
   "cell_type": "code",
   "execution_count": 25,
   "metadata": {},
   "outputs": [
    {
     "data": {
      "text/plain": [
       "array([[10.32]])"
      ]
     },
     "execution_count": 25,
     "metadata": {},
     "output_type": "execute_result"
    }
   ],
   "source": [
    "import numpy as np\n",
    "\n",
    "def value(gene_e: list, decimal_points: int = 6) -> np.array:\n",
    "    out = []\n",
    "    for sample in gene_e:\n",
    "        # Convert to float (ensuring numerical value)\n",
    "        sample_float = float(sample)\n",
    "        # Append formatted string representation\n",
    "        formatted = f\"{sample_float:.{decimal_points}f}\"\n",
    "        out.append([formatted])\n",
    "    return np.array(out, dtype=str)  # Return array of formatted strings\n",
    "\n",
    "number = [10.320000001]\n",
    "a = ge.value(number, 6)\n",
    "a"
   ]
  },
  {
   "cell_type": "markdown",
   "metadata": {},
   "source": [
    "a[0][0]"
   ]
  },
  {
   "cell_type": "code",
   "execution_count": 1,
   "metadata": {},
   "outputs": [
    {
     "name": "stdout",
     "output_type": "stream",
     "text": [
      "Running on: cuda\n",
      "tensor([[1, 0, 0, 0, 1, 1, 0, 0],\n",
      "        [1, 0, 1, 0, 1, 1, 1, 0],\n",
      "        [1, 1, 0, 0, 1, 1, 1, 1]], device='cuda:0', dtype=torch.int32)\n"
     ]
    }
   ],
   "source": [
    "import torch\n",
    "\n",
    "def tenfold_binary(gene_e: list, decimal_points: int = 1, max_int: int = 10, decimals_to_int: int = None) -> torch.Tensor:\n",
    "    # Check CUDA availability\n",
    "    device = torch.device(\"cuda\" if torch.cuda.is_available() else \"cpu\")\n",
    "    print(f\"Running on: {device}\")\n",
    "\n",
    "    # Convert input list to a PyTorch tensor and move to GPU if available\n",
    "    gene_e_tensor = torch.tensor(gene_e, device=device, dtype=torch.float32)\n",
    "\n",
    "    if decimals_to_int is None:\n",
    "        decimals_to_int = decimal_points\n",
    "    decimal_points = decimal_points - decimals_to_int\n",
    "\n",
    "    # Precompute constants on the same device\n",
    "    scale_factor = 10 ** decimals_to_int\n",
    "    max_binary_length = len(bin(max_int * (10**decimals_to_int))[2:]) if max_int != 0 else len(bin(10**decimals_to_int)[2:])\n",
    "    bit = 1 + max_binary_length + 4 * decimal_points\n",
    "\n",
    "    # Initialize output tensor\n",
    "    output = torch.zeros((gene_e_tensor.size(0), bit), device=device, dtype=torch.int32)\n",
    "\n",
    "    # Main computation\n",
    "    for i, sample in enumerate(gene_e_tensor):\n",
    "        # Scale and truncate decimals\n",
    "        sample_scaled = sample * scale_factor\n",
    "        sample_scaled = torch.round(sample_scaled * 10**(-decimal_points)) * 10**decimal_points\n",
    "\n",
    "        # Determine positivity/negativity\n",
    "        if sample_scaled > 0:\n",
    "            output[i, 0] = 1\n",
    "        else:\n",
    "            sample_scaled = -sample_scaled\n",
    "\n",
    "        # Convert integer part to binary\n",
    "        int_part = int(sample_scaled)\n",
    "        binary_int = torch.tensor([int(b) for b in bin(int_part)[2:]], device=device)\n",
    "        output[i, 1 + max_binary_length - binary_int.size(0):1 + max_binary_length] = binary_int\n",
    "\n",
    "        # Process decimal points\n",
    "        for decimal in range(1, decimal_points + 1):\n",
    "            value = int((sample_scaled * 10**decimal) % 10)\n",
    "            binary_value = torch.tensor([int(b) for b in bin(value)[2:]], device=device)\n",
    "            start_idx = 1 + max_binary_length + 4 * decimal - binary_value.size(0)\n",
    "            end_idx = 1 + max_binary_length + 4 * decimal\n",
    "            output[i, start_idx:end_idx] = binary_value\n",
    "\n",
    "    return output\n",
    "\n",
    "# Example usage\n",
    "gene_e = [1.23, 4.56, 7.89]\n",
    "result = tenfold_binary(gene_e)\n",
    "print(result)\n"
   ]
  },
  {
   "cell_type": "code",
   "execution_count": 5,
   "metadata": {},
   "outputs": [
    {
     "name": "stdout",
     "output_type": "stream",
     "text": [
      "Running on: cuda\n",
      "[[1 0 0 0 1 1 0 0]\n",
      " [1 0 1 0 1 1 1 0]\n",
      " [1 1 0 0 1 1 1 1]]\n"
     ]
    }
   ],
   "source": [
    "import numpy as np\n",
    "\n",
    "def tenfold_binary(gene_e: list, decimal_points: int=1, max_int: int=10, decimals_to_int: int=None) -> np.array:\n",
    "        if decimals_to_int == None: decimals_to_int = decimal_points\n",
    "        decimal_points = decimal_points - decimals_to_int\n",
    "        out=[]\n",
    "        for sample in gene_e:\n",
    "            sample = sample * 10**decimals_to_int\n",
    "            sample=float(f\"%.{decimal_points}f\" % sample)\n",
    "            int_lenth = len(bin(max_int*(10**decimals_to_int))[2:]) if max_int != 0 else len(bin(10**decimals_to_int)[2:])\n",
    "            bit = 1+int_lenth+4*(decimal_points)\n",
    "            vector= [0] * bit\n",
    "            \n",
    "            if sample > 0:\n",
    "                vector[0] = 1\n",
    "            else:\n",
    "                sample = -sample\n",
    "            \n",
    "            vector[1+int_lenth-len(bin(int(sample))[2:]):int_lenth+1] = [int(j) for j in (bin(int(sample))[2:])]\n",
    "\n",
    "            \n",
    "            for decimal in range(1, decimal_points+1):\n",
    "                if sample*decimal - int(sample*decimal) != 0:\n",
    "                    value = int(int(sample*10**decimal) - int(sample*10**(decimal-1))*10)\n",
    "                    index_begin = (1+int_lenth+4*decimal) - len(bin(value)[2:])\n",
    "                    index_end = (1+int_lenth+4*decimal)\n",
    "                    vector[index_begin:index_end] = [int(j) for j in (bin(int(value))[2:])]\n",
    "\n",
    "            out.append(vector)\n",
    "        return np.array(out)\n",
    "\n",
    "\n",
    "# Check CUDA availability\n",
    "device = torch.device(\"cuda\" if torch.cuda.is_available() else \"cpu\")\n",
    "print(f\"Running on: {device}\")\n",
    "\n",
    "gene_e = [1.23, 4.56, 7.89]\n",
    "gene_e_tensor = torch.tensor(gene_e, device=device, dtype=torch.float32)\n",
    "\n",
    "result = tenfold_binary(gene_e_tensor)\n",
    "print(result)"
   ]
  },
  {
   "cell_type": "code",
   "execution_count": 26,
   "metadata": {},
   "outputs": [
    {
     "name": "stdout",
     "output_type": "stream",
     "text": [
      "0\n"
     ]
    },
    {
     "data": {
      "text/plain": [
       "array([[1, 0, 0, 0, 0, 0, 0, 1, 1, 1, 0, 1, 0, 1, 0]])"
      ]
     },
     "execution_count": 26,
     "metadata": {},
     "output_type": "execute_result"
    }
   ],
   "source": [
    "def tenfold_binary(gene_e: list, decimal_points: int=1, max_int: int=10, decimals_to_int: int=None) -> np.array:\n",
    "        if decimals_to_int == None: decimals_to_int = decimal_points\n",
    "        decimal_points = decimal_points - decimals_to_int\n",
    "        out=[]\n",
    "        for sample in gene_e:\n",
    "            sample = sample * 10**decimals_to_int\n",
    "            print(decimal_points)\n",
    "            sample=float(f\"%.{decimal_points}f\" % sample)\n",
    "            int_lenth = len(bin(max_int*(10**decimals_to_int))[2:]) if max_int != 0 else len(bin(10**decimals_to_int)[2:])\n",
    "            bit = 1+int_lenth+4*(decimal_points)\n",
    "            vector= [0] * bit\n",
    "            \n",
    "            if sample > 0:\n",
    "                vector[0] = 1\n",
    "            else:\n",
    "                sample = -sample\n",
    "            \n",
    "            vector[1+int_lenth-len(bin(int(sample))[2:]):int_lenth+1] = [int(j) for j in (bin(int(sample))[2:])]\n",
    "\n",
    "            \n",
    "            for decimal in range(1, decimal_points+1):\n",
    "                if sample*decimal - int(sample*decimal) != 0:\n",
    "                    value = int(int(sample*10**decimal) - int(sample*10**(decimal-1))*10)\n",
    "                    index_begin = (1+int_lenth+4*decimal) - len(bin(value)[2:])\n",
    "                    index_end = (1+int_lenth+4*decimal)\n",
    "                    vector[index_begin:index_end] = [int(j) for j in (bin(int(value))[2:])]\n",
    "\n",
    "            out.append(vector)\n",
    "        return np.array(out)\n",
    "\n",
    "g = [0.234]\n",
    "tenfold_binary(g, max_int=10, decimal_points=3)"
   ]
  },
  {
   "cell_type": "code",
   "execution_count": 39,
   "metadata": {},
   "outputs": [
    {
     "data": {
      "text/plain": [
       "14"
      ]
     },
     "execution_count": 39,
     "metadata": {},
     "output_type": "execute_result"
    }
   ],
   "source": [
    "max_int = 0\n",
    "decimal_points = 3\n",
    "\n",
    "\n",
    "( 1 + (10**(decimal_points+1)).bit_length() if max_int != 0 else (10**(decimal_points)).bit_length())"
   ]
  },
  {
   "cell_type": "code",
   "execution_count": 23,
   "metadata": {},
   "outputs": [
    {
     "data": {
      "text/plain": [
       "23.4322"
      ]
     },
     "execution_count": 23,
     "metadata": {},
     "output_type": "execute_result"
    }
   ],
   "source": [
    "float(f\"%.{4}f\" % 23.4322)"
   ]
  },
  {
   "cell_type": "code",
   "execution_count": null,
   "metadata": {},
   "outputs": [
    {
     "ename": "ValueError",
     "evalue": "unsupported format character '-' (0x2d) at index 2",
     "output_type": "error",
     "traceback": [
      "\u001b[1;31m---------------------------------------------------------------------------\u001b[0m",
      "\u001b[1;31mValueError\u001b[0m                                Traceback (most recent call last)",
      "Cell \u001b[1;32mIn[18], line 2\u001b[0m\n\u001b[0;32m      1\u001b[0m g \u001b[38;5;241m=\u001b[39m [\u001b[38;5;241m0.234\u001b[39m]\n\u001b[1;32m----> 2\u001b[0m \u001b[43mtenfold_binary\u001b[49m\u001b[43m(\u001b[49m\u001b[43mg\u001b[49m\u001b[43m,\u001b[49m\u001b[43m \u001b[49m\u001b[43mmax_int\u001b[49m\u001b[38;5;241;43m=\u001b[39;49m\u001b[38;5;241;43m10\u001b[39;49m\u001b[43m,\u001b[49m\u001b[43m \u001b[49m\u001b[43mdecimals_to_int\u001b[49m\u001b[38;5;241;43m=\u001b[39;49m\u001b[38;5;241;43m3\u001b[39;49m\u001b[43m)\u001b[49m\n",
      "Cell \u001b[1;32mIn[16], line 7\u001b[0m, in \u001b[0;36mtenfold_binary\u001b[1;34m(gene_e, decimal_points, max_int, decimals_to_int)\u001b[0m\n\u001b[0;32m      5\u001b[0m \u001b[38;5;28;01mfor\u001b[39;00m sample \u001b[38;5;129;01min\u001b[39;00m gene_e:\n\u001b[0;32m      6\u001b[0m     sample \u001b[38;5;241m=\u001b[39m sample \u001b[38;5;241m*\u001b[39m \u001b[38;5;241m10\u001b[39m\u001b[38;5;241m*\u001b[39m\u001b[38;5;241m*\u001b[39mdecimals_to_int\n\u001b[1;32m----> 7\u001b[0m     sample\u001b[38;5;241m=\u001b[39m\u001b[38;5;28mfloat\u001b[39m(\u001b[38;5;124;43mf\u001b[39;49m\u001b[38;5;124;43m\"\u001b[39;49m\u001b[38;5;124;43m%.\u001b[39;49m\u001b[38;5;132;43;01m{\u001b[39;49;00m\u001b[43mdecimal_points\u001b[49m\u001b[38;5;132;43;01m}\u001b[39;49;00m\u001b[38;5;124;43mf\u001b[39;49m\u001b[38;5;124;43m\"\u001b[39;49m\u001b[43m \u001b[49m\u001b[38;5;241;43m%\u001b[39;49m\u001b[43m \u001b[49m\u001b[43msample\u001b[49m)\n\u001b[0;32m      8\u001b[0m     int_lenth \u001b[38;5;241m=\u001b[39m \u001b[38;5;28mlen\u001b[39m(\u001b[38;5;28mbin\u001b[39m(max_int\u001b[38;5;241m*\u001b[39m(\u001b[38;5;241m10\u001b[39m\u001b[38;5;241m*\u001b[39m\u001b[38;5;241m*\u001b[39mdecimals_to_int))[\u001b[38;5;241m2\u001b[39m:]) \u001b[38;5;28;01mif\u001b[39;00m max_int \u001b[38;5;241m!=\u001b[39m \u001b[38;5;241m0\u001b[39m \u001b[38;5;28;01melse\u001b[39;00m \u001b[38;5;28mlen\u001b[39m(\u001b[38;5;28mbin\u001b[39m(\u001b[38;5;241m10\u001b[39m\u001b[38;5;241m*\u001b[39m\u001b[38;5;241m*\u001b[39mdecimals_to_int)[\u001b[38;5;241m2\u001b[39m:])\n\u001b[0;32m      9\u001b[0m     bit \u001b[38;5;241m=\u001b[39m \u001b[38;5;241m1\u001b[39m\u001b[38;5;241m+\u001b[39mint_lenth\u001b[38;5;241m+\u001b[39m\u001b[38;5;241m4\u001b[39m\u001b[38;5;241m*\u001b[39m(decimal_points)\n",
      "\u001b[1;31mValueError\u001b[0m: unsupported format character '-' (0x2d) at index 2"
     ]
    }
   ],
   "source": []
  },
  {
   "cell_type": "code",
   "execution_count": null,
   "metadata": {},
   "outputs": [
    {
     "ename": "ValueError",
     "evalue": "unsupported format character '-' (0x2d) at index 2",
     "output_type": "error",
     "traceback": [
      "\u001b[1;31m---------------------------------------------------------------------------\u001b[0m",
      "\u001b[1;31mValueError\u001b[0m                                Traceback (most recent call last)",
      "Cell \u001b[1;32mIn[15], line 4\u001b[0m\n\u001b[0;32m      1\u001b[0m \u001b[38;5;28;01mimport\u001b[39;00m \u001b[38;5;21;01mgene_ex_encoder_upgraded\u001b[39;00m \u001b[38;5;28;01mas\u001b[39;00m \u001b[38;5;21;01mge\u001b[39;00m\n\u001b[0;32m      3\u001b[0m g \u001b[38;5;241m=\u001b[39m [\u001b[38;5;241m0.234\u001b[39m]\n\u001b[1;32m----> 4\u001b[0m \u001b[43mge\u001b[49m\u001b[38;5;241;43m.\u001b[39;49m\u001b[43mtenfold_binary\u001b[49m\u001b[43m(\u001b[49m\u001b[43mg\u001b[49m\u001b[43m,\u001b[49m\u001b[43m \u001b[49m\u001b[43mmax_int\u001b[49m\u001b[38;5;241;43m=\u001b[39;49m\u001b[38;5;241;43m10\u001b[39;49m\u001b[43m,\u001b[49m\u001b[43m \u001b[49m\u001b[43mdecimals_to_int\u001b[49m\u001b[38;5;241;43m=\u001b[39;49m\u001b[38;5;241;43m3\u001b[39;49m\u001b[43m)\u001b[49m\n",
      "File \u001b[1;32mc:\\Users\\Acer\\Documents\\Profissional\\Faculdade\\TCC\\oficial_code\\TransGEM-main\\TransGEM\\gene_ex_encoder_upgraded.py:79\u001b[0m, in \u001b[0;36mtenfold_binary\u001b[1;34m(gene_e, decimal_points, max_int, decimals_to_int)\u001b[0m\n\u001b[0;32m     77\u001b[0m \u001b[38;5;28;01mfor\u001b[39;00m sample \u001b[38;5;129;01min\u001b[39;00m gene_e:\n\u001b[0;32m     78\u001b[0m     sample \u001b[38;5;241m=\u001b[39m sample \u001b[38;5;241m*\u001b[39m \u001b[38;5;241m10\u001b[39m\u001b[38;5;241m*\u001b[39m\u001b[38;5;241m*\u001b[39mdecimals_to_int\n\u001b[1;32m---> 79\u001b[0m     sample\u001b[38;5;241m=\u001b[39m\u001b[38;5;28mfloat\u001b[39m(\u001b[38;5;124;43mf\u001b[39;49m\u001b[38;5;124;43m\"\u001b[39;49m\u001b[38;5;124;43m%.\u001b[39;49m\u001b[38;5;132;43;01m{\u001b[39;49;00m\u001b[43mdecimal_points\u001b[49m\u001b[38;5;132;43;01m}\u001b[39;49;00m\u001b[38;5;124;43mf\u001b[39;49m\u001b[38;5;124;43m\"\u001b[39;49m\u001b[43m \u001b[49m\u001b[38;5;241;43m%\u001b[39;49m\u001b[43m \u001b[49m\u001b[43msample\u001b[49m)\n\u001b[0;32m     80\u001b[0m     int_lenth \u001b[38;5;241m=\u001b[39m \u001b[38;5;28mlen\u001b[39m(\u001b[38;5;28mbin\u001b[39m(max_int\u001b[38;5;241m*\u001b[39m(\u001b[38;5;241m10\u001b[39m\u001b[38;5;241m*\u001b[39m\u001b[38;5;241m*\u001b[39mdecimals_to_int))[\u001b[38;5;241m2\u001b[39m:]) \u001b[38;5;28;01mif\u001b[39;00m max_int \u001b[38;5;241m!=\u001b[39m \u001b[38;5;241m0\u001b[39m \u001b[38;5;28;01melse\u001b[39;00m \u001b[38;5;28mlen\u001b[39m(\u001b[38;5;28mbin\u001b[39m(\u001b[38;5;241m10\u001b[39m\u001b[38;5;241m*\u001b[39m\u001b[38;5;241m*\u001b[39mdecimals_to_int)[\u001b[38;5;241m2\u001b[39m:])\n\u001b[0;32m     81\u001b[0m     bit \u001b[38;5;241m=\u001b[39m \u001b[38;5;241m1\u001b[39m\u001b[38;5;241m+\u001b[39mint_lenth\u001b[38;5;241m+\u001b[39m\u001b[38;5;241m4\u001b[39m\u001b[38;5;241m*\u001b[39m(decimal_points)\n",
      "\u001b[1;31mValueError\u001b[0m: unsupported format character '-' (0x2d) at index 2"
     ]
    }
   ],
   "source": [
    "import gene_ex_encoder_upgraded as ge\n",
    "\n"
   ]
  },
  {
   "cell_type": "code",
   "execution_count": 11,
   "metadata": {},
   "outputs": [
    {
     "data": {
      "text/plain": [
       "'0b11101010'"
      ]
     },
     "execution_count": 11,
     "metadata": {},
     "output_type": "execute_result"
    }
   ],
   "source": [
    "bin(234)"
   ]
  },
  {
   "cell_type": "code",
   "execution_count": 1,
   "metadata": {},
   "outputs": [
    {
     "data": {
      "text/plain": [
       "3"
      ]
     },
     "execution_count": 1,
     "metadata": {},
     "output_type": "execute_result"
    }
   ],
   "source": [
    "3"
   ]
  },
  {
   "cell_type": "code",
   "execution_count": 3,
   "metadata": {},
   "outputs": [],
   "source": [
    "path = '../data/df_fame_test.csv'\n",
    "\n",
    "import pandas as pd\n",
    "\n",
    "df = pd.read_csv(path)"
   ]
  },
  {
   "cell_type": "code",
   "execution_count": 11,
   "metadata": {},
   "outputs": [
    {
     "name": "stdout",
     "output_type": "stream",
     "text": [
      "Molécula:  C[C@@H]1CC2C3CCC4=CC(=O)C=C[C@]4(C)[C@@]3(F)[C@@H](O)C[C@]2(C)[C@@]1(O)C(=O)CO\n",
      "Molécula:  CC(=O)OCC(=O)[C@@]1(O)[C@H](C)C[C@H]2[C@@H]3CCC4=CC(=O)C=C[C@]4(C)[C@@]3(F)[C@@H](O)C[C@@]21C\n",
      "Molécula:  C[C@]12CCC3C(CCC4=CC(=O)CC[C@@]43C)C1CC[C@@H]2O\n",
      "Molécula:  CCC(=O)O[C@H]1CC[C@H]2[C@@H]3CCC4=CC(=O)CC[C@]4(C)[C@H]3CC[C@]12C\n",
      "Molécula:  C[C@@H]1CC2C3CCC4=CC(=O)C=CC4(C)[C@]3(F)[C@@H](O)CC2(C)[C@]1(O)C(=O)CO\n",
      "Molécula:  C[C@]1(O)CC[C@H]2[C@@H]3CCC4=CC(=O)CC[C@]4(C)[C@H]3CC[C@@]21C\n",
      "Molécula:  C[C@]1(O)CC[C@H]2[C@@H]3CCC4=CC(=O)CC[C@]4(C)[C@H]3CC[C@@]21C\n",
      "Molécula:  CC(=O)OCC(=O)[C@@]1(O)[C@H](C)C[C@H]2[C@@H]3CCC4=CC(=O)C=C[C@]4(C)[C@@]3(F)[C@@H](O)C[C@@]21C\n",
      "Molécula:  CCC(=O)O[C@H]1CC[C@H]2[C@@H]3CCC4=CC(=O)CC[C@]4(C)[C@H]3CC[C@]12C\n",
      "Molécula:  C[C@@H]1CC2C3CCC4=CC(=O)C=C[C@]4(C)[C@@]3(F)[C@@H](O)C[C@]2(C)[C@@]1(O)C(=O)CO\n",
      "Molécula:  CC(=O)OCC(=O)[C@@]1(O)[C@H](C)C[C@H]2[C@H]3CCC4=CC(=O)C=C[C@]4(C)[C@@]3(F)[C@@H](O)C[C@@]21C\n",
      "Molécula:  C[C@H]1C[C@H]2[C@H]3CCC4=CC(=O)C=C[C@]4(C)[C@@]3(F)[C@@H](O)C[C@]2(C)[C@@]1(O)C(=O)CO\n",
      "Molécula:  CC12CCC(=O)C=C1CCC1C2CCC2(C)C(O)CCC12\n",
      "Molécula:  CC12CCC(=O)C=C1CCC1C2CCC2(C)C(O)CCC12\n"
     ]
    }
   ],
   "source": [
    "for mol in df.smiles:\n",
    "    print('Molécula: ', mol)"
   ]
  },
  {
   "cell_type": "code",
   "execution_count": 23,
   "metadata": {},
   "outputs": [
    {
     "data": {
      "text/plain": [
       "11"
      ]
     },
     "execution_count": 23,
     "metadata": {},
     "output_type": "execute_result"
    }
   ],
   "source": [
    "import numpy as np \n",
    "\n",
    "def debug_one_hot(gene_e: list, decimal_points: int=1, max_int: int=10, numbers_size: int=9) -> np.array:\n",
    "        out=[]\n",
    "        for sample in gene_e:\n",
    "             bit = (1+max_int+numbers_size*decimal_points+1)\n",
    "             sample = float(f\"%.{decimal_points}f\" % sample)\n",
    "             vector = [0]*bit\n",
    "\n",
    "             if sample > 0:\n",
    "                 vector[0] = 1\n",
    "             else:\n",
    "                  sample = -sample\n",
    "\n",
    "             vector[abs(int(sample)-max_int)+1] = 1\n",
    "\n",
    "             for decimal in range(1, decimal_points+1):\n",
    "                    if sample*decimal - int(sample*decimal) != 0:\n",
    "                       value = int(int(sample*10**decimal) - int(sample*10**(decimal-1))*10)\n",
    "                       if (value != 10) & (value != 0):\n",
    "                        index = 1+max_int+numbers_size*(decimal-1)+value\n",
    "                        vector[index] = 1\n",
    "             out.append(vector)\n",
    "\n",
    "        return np.array(out)\n",
    "\n",
    "gene_e=[0.000]\n",
    "len(debug_one_hot(gene_e, decimal_points=1, max_int=0)[0])"
   ]
  },
  {
   "cell_type": "code",
   "execution_count": 34,
   "metadata": {},
   "outputs": [
    {
     "name": "stdout",
     "output_type": "stream",
     "text": [
      "13\n",
      "14\n",
      "11\n"
     ]
    }
   ],
   "source": [
    "cell_types_length = 2\n",
    "max_int = 0\n",
    "decimal_points=1\n",
    "gene_e=[0.000]\n",
    "\n",
    "print(cell_types_length + ( 1 + (max_int+1) + 9*decimal_points))\n",
    "print(cell_types_length + 1 + len(debug_one_hot(gene_e, decimal_points=decimal_points, max_int=max_int)[0]))\n",
    "print(len(debug_one_hot(gene_e, decimal_points=decimal_points, max_int=max_int)[0]))"
   ]
  }
 ],
 "metadata": {
  "kernelspec": {
   "display_name": "TransGEM_3",
   "language": "python",
   "name": "python3"
  },
  "language_info": {
   "codemirror_mode": {
    "name": "ipython",
    "version": 3
   },
   "file_extension": ".py",
   "mimetype": "text/x-python",
   "name": "python",
   "nbconvert_exporter": "python",
   "pygments_lexer": "ipython3",
   "version": "3.8.20"
  }
 },
 "nbformat": 4,
 "nbformat_minor": 2
}
